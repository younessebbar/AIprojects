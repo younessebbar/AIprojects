{
 "cells": [
  {
   "cell_type": "code",
   "execution_count": 7,
   "id": "b044bf5f-685c-493d-a6a4-ed5bd607df31",
   "metadata": {},
   "outputs": [],
   "source": [
    "from openai import OpenAI"
   ]
  },
  {
   "cell_type": "code",
   "execution_count": 8,
   "id": "e505ca52-12ea-4699-8de3-3ab88609346e",
   "metadata": {},
   "outputs": [],
   "source": [
    "from dotenv import dotenv_values"
   ]
  },
  {
   "cell_type": "code",
   "execution_count": 9,
   "id": "47fc6667-486f-4c57-bb73-faae642aef55",
   "metadata": {},
   "outputs": [],
   "source": [
    "config = dotenv_values(\".env\")"
   ]
  },
  {
   "cell_type": "code",
   "execution_count": 10,
   "id": "a4e0bc53-9d17-4a8b-8644-6eeae6c14767",
   "metadata": {},
   "outputs": [],
   "source": [
    "client = OpenAI(api_key=config[\"OPENAI_API_KEY\"])"
   ]
  },
  {
   "cell_type": "code",
   "execution_count": 11,
   "id": "03b6eff6-4b4d-4182-b8d4-cce5b4b22096",
   "metadata": {},
   "outputs": [],
   "source": [
    "response = client.chat.completions.create(\n",
    "    messages=[\n",
    "        {\"role\": \"user\", \"content\": \"Give me the best movies of all time \"}\n",
    "    ],\n",
    "    model=\"gpt-3.5-turbo\",\n",
    "    max_tokens= 100\n",
    ")"
   ]
  },
  {
   "cell_type": "code",
   "execution_count": 12,
   "id": "d8424197-1096-4bd8-8f32-8879b9866a2d",
   "metadata": {},
   "outputs": [
    {
     "name": "stdout",
     "output_type": "stream",
     "text": [
      "This is a subjective question as opinions on the best movies of all time can vary. However, some movies that are often considered among the best of all time by critics and audiences include:\n",
      "\n",
      "1. The Godfather (1972)\n",
      "2. The Shawshank Redemption (1994)\n",
      "3. Schindler's List (1993)\n",
      "4. The Dark Knight (2008)\n",
      "5. Pulp Fiction (1994)\n",
      "6. The Lord of the Rings: The Return of the King (\n"
     ]
    }
   ],
   "source": [
    "print(response.choices[0].message.content)"
   ]
  },
  {
   "cell_type": "code",
   "execution_count": null,
   "id": "b9b5e275-f868-41e7-bd7a-0c08c19bfffc",
   "metadata": {},
   "outputs": [],
   "source": []
  }
 ],
 "metadata": {
  "kernelspec": {
   "display_name": "Python 3 (ipykernel)",
   "language": "python",
   "name": "python3"
  },
  "language_info": {
   "codemirror_mode": {
    "name": "ipython",
    "version": 3
   },
   "file_extension": ".py",
   "mimetype": "text/x-python",
   "name": "python",
   "nbconvert_exporter": "python",
   "pygments_lexer": "ipython3",
   "version": "3.12.4"
  }
 },
 "nbformat": 4,
 "nbformat_minor": 5
}
